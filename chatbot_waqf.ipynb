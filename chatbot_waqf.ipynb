{
  "cells": [
    {
      "cell_type": "code",
      "execution_count": null,
      "metadata": {
        "colab": {
          "base_uri": "https://localhost:8080/"
        },
        "id": "tDP2Z-wcEu31",
        "outputId": "4df2b022-c459-4767-ea34-1169d0dab815"
      },
      "outputs": [
        {
          "name": "stdout",
          "output_type": "stream",
          "text": [
            "Mounted at /content/drive\n",
            "['Screenshot_20210123-234645 (2).jpg', 'Screenshot_20210123-234645 (1).jpg', 'Screenshot_20210123-234645.jpg', 'IMG_٢٠٢١٠٦٠٣_١١٤٥٠٦ (1).jpg', 'CamScanner ٠٦-٠٦-٢٠٢١ ١٧.١١.pdf', 'IMG_٢٠٢١٠٦٠٦_١٧١٧٥٤.jpg', 'IMG_٢٠٢١٠٦٠٦_١٧٢١٣٢.jpg', 'سيرتي الجديدة  (2).pdf', 'IMG_٢٠٢١٠٦٠٣_١١٤٥٠٦.jpg', 'سيرتي الجديدة  (1).pdf', 'سيرتي الجديدة .pdf', 'جدول بيانات بدون عنوان.gsheet', 'Transaction-Receipt5771456129969077639.pdf', 'سيرتي الجديدة لفيصل.pdf', 'سيرتي الذاتية بعد عطاء.pdf', 'الفيلم التعريفي لجمعية عون بالقنفذة - من أعمالي-.mp4', 'الاجماع', 'التقرير السنوي 2023م.docx', 'جمعية بيان النسخة النهائية(2).mp4', 'التقرير السنوي عطاء الوقفية.pdf', 'تصاميمنا', '27_compressed (2).pdf', 'Comp 1 (1).mp4', 'Colab Notebooks', 'نموذج بدون عنوان.gform', 'مجلد جديد (2)', '\\u200fمستند Google Keep.gdoc', 'from flask.txt', 'datat.xlsx', 'data.json']\n"
          ]
        }
      ],
      "source": [
        "from google.colab import drive\n",
        "\n",
        "# ربط Google Drive بـ Colab\n",
        "drive.mount('/content/drive')\n",
        "\n",
        "# التحقق من وجود الملف في Google Drive\n",
        "import os\n",
        "path = '/content/drive/My Drive'\n",
        "files = os.listdir(path)\n",
        "print(files)"
      ]
    },
    {
      "cell_type": "code",
      "execution_count": null,
      "metadata": {
        "colab": {
          "base_uri": "https://localhost:8080/"
        },
        "id": "QmxnwsKwIdwn",
        "outputId": "6c541c4e-ebaf-4131-82d5-2d88cec54451"
      },
      "outputs": [
        {
          "name": "stdout",
          "output_type": "stream",
          "text": [
            "Collecting pyngrok\n",
            "  Downloading pyngrok-7.2.1-py3-none-any.whl.metadata (8.3 kB)\n",
            "Requirement already satisfied: PyYAML>=5.1 in /usr/local/lib/python3.10/dist-packages (from pyngrok) (6.0.2)\n",
            "Downloading pyngrok-7.2.1-py3-none-any.whl (22 kB)\n",
            "Installing collected packages: pyngrok\n",
            "Successfully installed pyngrok-7.2.1\n"
          ]
        }
      ],
      "source": [
        "!pip install pyngrok"
      ]
    },
    {
      "cell_type": "code",
      "execution_count": null,
      "metadata": {
        "id": "XAduZAm-Ze9f"
      },
      "outputs": [],
      "source": [
        "from pyngrok import ngrok"
      ]
    },
    {
      "cell_type": "code",
      "execution_count": null,
      "metadata": {
        "colab": {
          "base_uri": "https://localhost:8080/"
        },
        "id": "WF6-rbQbLHAw",
        "outputId": "1462ea77-9074-42e9-d259-0eec11fd7e20"
      },
      "outputs": [
        {
          "name": "stdout",
          "output_type": "stream",
          "text": [
            "Authtoken saved to configuration file: /root/.config/ngrok/ngrok.yml\n"
          ]
        }
      ],
      "source": [
        "!ngrok authtoken 2olQyYASU72xXSgGEhxJDKhiG4v_5ASpQq4opnNNEuDwNB6iB"
      ]
    },
    {
      "cell_type": "code",
      "execution_count": null,
      "metadata": {
        "colab": {
          "base_uri": "https://localhost:8080/"
        },
        "id": "gU_ZPf5SKPK7",
        "outputId": "875d8f55-ac77-48a6-dafd-11ee7aa46fa5"
      },
      "outputs": [
        {
          "name": "stdout",
          "output_type": "stream",
          "text": [
            "رابط التطبيق: NgrokTunnel: \"https://17c0-35-236-128-143.ngrok-free.app\" -> \"http://localhost:5000\"\n"
          ]
        }
      ],
      "source": [
        "\n",
        "from pyngrok import ngrok\n",
        "public_url = ngrok.connect(addr='5000', proto='http')\n",
        "print(\"رابط التطبيق:\", public_url)"
      ]
    },
    {
      "cell_type": "code",
      "execution_count": null,
      "metadata": {
        "colab": {
          "base_uri": "https://localhost:8080/"
        },
        "id": "4EnnG9q1FmYi",
        "outputId": "97f8597f-dcdd-420d-b951-277c9b95bcb5"
      },
      "outputs": [
        {
          "name": "stdout",
          "output_type": "stream",
          "text": [
            "تم إنشاء ملف index.html بنجاح!\n"
          ]
        }
      ],
      "source": [
        "html_code = \"\"\"\n",
        "<!DOCTYPE html>\n",
        "<html lang=\"ar\">\n",
        "<head>\n",
        "    <meta charset=\"UTF-8\">\n",
        "    <title>وقف Chatbot</title>\n",
        "    <script>\n",
        "        async function sendMessage() {\n",
        "            const message = document.getElementById('message').value;\n",
        "            const response = await fetch('/chatbot', {\n",
        "                method: 'POST',\n",
        "                headers: {\n",
        "                    'Content-Type': 'application/json'\n",
        "                },\n",
        "                body: JSON.stringify({ message: message })\n",
        "            });\n",
        "            const data = await response.json();\n",
        "            document.getElementById('response').innerText = data.response;\n",
        "        }\n",
        "    </script>\n",
        "</head>\n",
        "<body>\n",
        "    <h1>وقف Chatbot</h1>\n",
        "    <input type=\"text\" id=\"message\" placeholder=\"اكتب سؤالك هنا\">\n",
        "    <button onclick=\"sendMessage()\">إرسال</button>\n",
        "    <p id=\"response\"></p>\n",
        "</body>\n",
        "</html>\n",
        "\"\"\"\n",
        "\n",
        "with open('/content/index.html', 'w') as file:\n",
        "    file.write(html_code)\n",
        "\n",
        "print(\"تم إنشاء ملف index.html بنجاح!\")"
      ]
    },
    {
      "cell_type": "code",
      "execution_count": null,
      "metadata": {
        "colab": {
          "background_save": true,
          "base_uri": "https://localhost:8080/"
        },
        "id": "hAewyBtsFp2a",
        "outputId": "4ad577a5-c49d-413e-cbb3-cff7a658acc6"
      },
      "outputs": [
        {
          "name": "stdout",
          "output_type": "stream",
          "text": [
            "رابط التطبيق: NgrokTunnel: \"https://c0fa-35-236-128-143.ngrok-free.app\" -> \"http://localhost:5000\"\n",
            " * Serving Flask app '__main__'\n",
            " * Debug mode: off\n"
          ]
        },
        {
          "name": "stderr",
          "output_type": "stream",
          "text": [
            "INFO:werkzeug:\u001b[31m\u001b[1mWARNING: This is a development server. Do not use it in a production deployment. Use a production WSGI server instead.\u001b[0m\n",
            " * Running on http://127.0.0.1:5000\n",
            "INFO:werkzeug:\u001b[33mPress CTRL+C to quit\u001b[0m\n",
            "INFO:werkzeug:127.0.0.1 - - [04/Dec/2024 16:46:27] \"GET / HTTP/1.1\" 200 -\n",
            "INFO:werkzeug:127.0.0.1 - - [04/Dec/2024 16:46:29] \"\u001b[33mGET /favicon.ico HTTP/1.1\u001b[0m\" 404 -\n",
            "INFO:werkzeug:127.0.0.1 - - [04/Dec/2024 16:47:45] \"POST /chatbot HTTP/1.1\" 200 -\n"
          ]
        }
      ],
      "source": [
        "from flask import Flask, request, jsonify, send_from_directory\n",
        "import json\n",
        "from sklearn.feature_extraction.text import TfidfVectorizer\n",
        "from sklearn.metrics.pairwise import cosine_similarity\n",
        "import numpy as np\n",
        "from pyngrok import ngrok\n",
        "\n",
        "# تحميل بيانات الأسئلة والأجوبة\n",
        "with open('/content/drive/My Drive/data.json', 'r', encoding='utf-8') as json_file:\n",
        "    qa_dict = json.load(json_file)\n",
        "\n",
        "questions = list(qa_dict.keys())\n",
        "answers = list(qa_dict.values())\n",
        "vectorizer = TfidfVectorizer()\n",
        "question_vectors = vectorizer.fit_transform(questions)\n",
        "\n",
        "def chatbot_response(user_input):\n",
        "    user_input_vector = vectorizer.transform([user_input])\n",
        "    cosine_sim = cosine_similarity(user_input_vector, question_vectors)\n",
        "    most_similar_index = np.argmax(cosine_sim)\n",
        "    return answers[most_similar_index]\n",
        "\n",
        "app = Flask(__name__)\n",
        "\n",
        "@app.route('/')\n",
        "def home():\n",
        "    return send_from_directory('/content', 'index.html')\n",
        "\n",
        "@app.route('/chatbot', methods=['POST'])\n",
        "def chatbot():\n",
        "    user_input = request.json.get('message')\n",
        "    response = chatbot_response(user_input)\n",
        "    return jsonify({\"response\": response})\n",
        "\n",
        "if __name__ == '__main__':\n",
        "    public_url = ngrok.connect(addr='5000', proto='http')\n",
        "    print(\"رابط التطبيق:\", public_url)\n",
        "    app.run()\n"
      ]
    }
  ],
  "metadata": {
    "colab": {
      "provenance": []
    },
    "kernelspec": {
      "display_name": "Python 3",
      "name": "python3"
    },
    "language_info": {
      "name": "python"
    }
  },
  "nbformat": 4,
  "nbformat_minor": 0
}